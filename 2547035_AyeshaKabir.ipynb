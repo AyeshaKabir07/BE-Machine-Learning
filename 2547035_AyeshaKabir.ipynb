{
 "cells": [
  {
   "cell_type": "code",
   "execution_count": 3,
   "id": "158515fc-3845-43ee-a8b8-b87c96bf157e",
   "metadata": {},
   "outputs": [],
   "source": [
    "import pandas as pd\n",
    "import numpy as np\n",
    "\n",
    "df=pd.read_csv(\"Iris.csv\")"
   ]
  },
  {
   "cell_type": "code",
   "execution_count": 5,
   "id": "c2d49743-c440-4859-94e8-00165ec880e6",
   "metadata": {},
   "outputs": [
    {
     "data": {
      "text/html": [
       "<div>\n",
       "<style scoped>\n",
       "    .dataframe tbody tr th:only-of-type {\n",
       "        vertical-align: middle;\n",
       "    }\n",
       "\n",
       "    .dataframe tbody tr th {\n",
       "        vertical-align: top;\n",
       "    }\n",
       "\n",
       "    .dataframe thead th {\n",
       "        text-align: right;\n",
       "    }\n",
       "</style>\n",
       "<table border=\"1\" class=\"dataframe\">\n",
       "  <thead>\n",
       "    <tr style=\"text-align: right;\">\n",
       "      <th></th>\n",
       "      <th>Id</th>\n",
       "      <th>SepalLengthCm</th>\n",
       "      <th>SepalWidthCm</th>\n",
       "      <th>PetalLengthCm</th>\n",
       "      <th>PetalWidthCm</th>\n",
       "      <th>Species</th>\n",
       "    </tr>\n",
       "  </thead>\n",
       "  <tbody>\n",
       "    <tr>\n",
       "      <th>0</th>\n",
       "      <td>1</td>\n",
       "      <td>5.1</td>\n",
       "      <td>3.5</td>\n",
       "      <td>1.4</td>\n",
       "      <td>0.2</td>\n",
       "      <td>Iris-setosa</td>\n",
       "    </tr>\n",
       "    <tr>\n",
       "      <th>1</th>\n",
       "      <td>2</td>\n",
       "      <td>4.9</td>\n",
       "      <td>3.0</td>\n",
       "      <td>1.4</td>\n",
       "      <td>0.2</td>\n",
       "      <td>Iris-setosa</td>\n",
       "    </tr>\n",
       "    <tr>\n",
       "      <th>2</th>\n",
       "      <td>3</td>\n",
       "      <td>4.7</td>\n",
       "      <td>3.2</td>\n",
       "      <td>1.3</td>\n",
       "      <td>0.2</td>\n",
       "      <td>Iris-setosa</td>\n",
       "    </tr>\n",
       "    <tr>\n",
       "      <th>3</th>\n",
       "      <td>4</td>\n",
       "      <td>4.6</td>\n",
       "      <td>3.1</td>\n",
       "      <td>1.5</td>\n",
       "      <td>0.2</td>\n",
       "      <td>Iris-setosa</td>\n",
       "    </tr>\n",
       "    <tr>\n",
       "      <th>4</th>\n",
       "      <td>5</td>\n",
       "      <td>5.0</td>\n",
       "      <td>3.6</td>\n",
       "      <td>1.4</td>\n",
       "      <td>0.2</td>\n",
       "      <td>Iris-setosa</td>\n",
       "    </tr>\n",
       "    <tr>\n",
       "      <th>...</th>\n",
       "      <td>...</td>\n",
       "      <td>...</td>\n",
       "      <td>...</td>\n",
       "      <td>...</td>\n",
       "      <td>...</td>\n",
       "      <td>...</td>\n",
       "    </tr>\n",
       "    <tr>\n",
       "      <th>145</th>\n",
       "      <td>146</td>\n",
       "      <td>6.7</td>\n",
       "      <td>3.0</td>\n",
       "      <td>5.2</td>\n",
       "      <td>2.3</td>\n",
       "      <td>Iris-virginica</td>\n",
       "    </tr>\n",
       "    <tr>\n",
       "      <th>146</th>\n",
       "      <td>147</td>\n",
       "      <td>6.3</td>\n",
       "      <td>2.5</td>\n",
       "      <td>5.0</td>\n",
       "      <td>1.9</td>\n",
       "      <td>Iris-virginica</td>\n",
       "    </tr>\n",
       "    <tr>\n",
       "      <th>147</th>\n",
       "      <td>148</td>\n",
       "      <td>6.5</td>\n",
       "      <td>3.0</td>\n",
       "      <td>5.2</td>\n",
       "      <td>2.0</td>\n",
       "      <td>Iris-virginica</td>\n",
       "    </tr>\n",
       "    <tr>\n",
       "      <th>148</th>\n",
       "      <td>149</td>\n",
       "      <td>6.2</td>\n",
       "      <td>3.4</td>\n",
       "      <td>5.4</td>\n",
       "      <td>2.3</td>\n",
       "      <td>Iris-virginica</td>\n",
       "    </tr>\n",
       "    <tr>\n",
       "      <th>149</th>\n",
       "      <td>150</td>\n",
       "      <td>5.9</td>\n",
       "      <td>3.0</td>\n",
       "      <td>5.1</td>\n",
       "      <td>1.8</td>\n",
       "      <td>Iris-virginica</td>\n",
       "    </tr>\n",
       "  </tbody>\n",
       "</table>\n",
       "<p>150 rows × 6 columns</p>\n",
       "</div>"
      ],
      "text/plain": [
       "      Id  SepalLengthCm  SepalWidthCm  PetalLengthCm  PetalWidthCm  \\\n",
       "0      1            5.1           3.5            1.4           0.2   \n",
       "1      2            4.9           3.0            1.4           0.2   \n",
       "2      3            4.7           3.2            1.3           0.2   \n",
       "3      4            4.6           3.1            1.5           0.2   \n",
       "4      5            5.0           3.6            1.4           0.2   \n",
       "..   ...            ...           ...            ...           ...   \n",
       "145  146            6.7           3.0            5.2           2.3   \n",
       "146  147            6.3           2.5            5.0           1.9   \n",
       "147  148            6.5           3.0            5.2           2.0   \n",
       "148  149            6.2           3.4            5.4           2.3   \n",
       "149  150            5.9           3.0            5.1           1.8   \n",
       "\n",
       "            Species  \n",
       "0       Iris-setosa  \n",
       "1       Iris-setosa  \n",
       "2       Iris-setosa  \n",
       "3       Iris-setosa  \n",
       "4       Iris-setosa  \n",
       "..              ...  \n",
       "145  Iris-virginica  \n",
       "146  Iris-virginica  \n",
       "147  Iris-virginica  \n",
       "148  Iris-virginica  \n",
       "149  Iris-virginica  \n",
       "\n",
       "[150 rows x 6 columns]"
      ]
     },
     "execution_count": 5,
     "metadata": {},
     "output_type": "execute_result"
    }
   ],
   "source": [
    "df\n"
   ]
  },
  {
   "cell_type": "code",
   "execution_count": 7,
   "id": "2c1a5b7e-719c-4c6f-aa6c-fdc118c9bef0",
   "metadata": {},
   "outputs": [
    {
     "data": {
      "text/plain": [
       "<bound method NDFrame.head of       Id  SepalLengthCm  SepalWidthCm  PetalLengthCm  PetalWidthCm  \\\n",
       "0      1            5.1           3.5            1.4           0.2   \n",
       "1      2            4.9           3.0            1.4           0.2   \n",
       "2      3            4.7           3.2            1.3           0.2   \n",
       "3      4            4.6           3.1            1.5           0.2   \n",
       "4      5            5.0           3.6            1.4           0.2   \n",
       "..   ...            ...           ...            ...           ...   \n",
       "145  146            6.7           3.0            5.2           2.3   \n",
       "146  147            6.3           2.5            5.0           1.9   \n",
       "147  148            6.5           3.0            5.2           2.0   \n",
       "148  149            6.2           3.4            5.4           2.3   \n",
       "149  150            5.9           3.0            5.1           1.8   \n",
       "\n",
       "            Species  \n",
       "0       Iris-setosa  \n",
       "1       Iris-setosa  \n",
       "2       Iris-setosa  \n",
       "3       Iris-setosa  \n",
       "4       Iris-setosa  \n",
       "..              ...  \n",
       "145  Iris-virginica  \n",
       "146  Iris-virginica  \n",
       "147  Iris-virginica  \n",
       "148  Iris-virginica  \n",
       "149  Iris-virginica  \n",
       "\n",
       "[150 rows x 6 columns]>"
      ]
     },
     "execution_count": 7,
     "metadata": {},
     "output_type": "execute_result"
    }
   ],
   "source": [
    "df.head"
   ]
  },
  {
   "cell_type": "code",
   "execution_count": 9,
   "id": "90c304f2-d09d-42b5-83ea-c0c0a2d89477",
   "metadata": {},
   "outputs": [
    {
     "data": {
      "text/plain": [
       "<bound method NDFrame.tail of       Id  SepalLengthCm  SepalWidthCm  PetalLengthCm  PetalWidthCm  \\\n",
       "0      1            5.1           3.5            1.4           0.2   \n",
       "1      2            4.9           3.0            1.4           0.2   \n",
       "2      3            4.7           3.2            1.3           0.2   \n",
       "3      4            4.6           3.1            1.5           0.2   \n",
       "4      5            5.0           3.6            1.4           0.2   \n",
       "..   ...            ...           ...            ...           ...   \n",
       "145  146            6.7           3.0            5.2           2.3   \n",
       "146  147            6.3           2.5            5.0           1.9   \n",
       "147  148            6.5           3.0            5.2           2.0   \n",
       "148  149            6.2           3.4            5.4           2.3   \n",
       "149  150            5.9           3.0            5.1           1.8   \n",
       "\n",
       "            Species  \n",
       "0       Iris-setosa  \n",
       "1       Iris-setosa  \n",
       "2       Iris-setosa  \n",
       "3       Iris-setosa  \n",
       "4       Iris-setosa  \n",
       "..              ...  \n",
       "145  Iris-virginica  \n",
       "146  Iris-virginica  \n",
       "147  Iris-virginica  \n",
       "148  Iris-virginica  \n",
       "149  Iris-virginica  \n",
       "\n",
       "[150 rows x 6 columns]>"
      ]
     },
     "execution_count": 9,
     "metadata": {},
     "output_type": "execute_result"
    }
   ],
   "source": [
    "df.tail\n"
   ]
  },
  {
   "cell_type": "code",
   "execution_count": 13,
   "id": "3c6a9cd9-4241-41b1-a48b-d44591808ad7",
   "metadata": {},
   "outputs": [
    {
     "data": {
      "text/plain": [
       "Index(['Id', 'SepalLengthCm', 'SepalWidthCm', 'PetalLengthCm', 'PetalWidthCm',\n",
       "       'Species'],\n",
       "      dtype='object')"
      ]
     },
     "execution_count": 13,
     "metadata": {},
     "output_type": "execute_result"
    }
   ],
   "source": [
    "df.columns\n"
   ]
  },
  {
   "cell_type": "code",
   "execution_count": 15,
   "id": "4e1f802a-9699-4e51-ad67-d47b5b46310a",
   "metadata": {},
   "outputs": [
    {
     "data": {
      "text/plain": [
       "Id               0\n",
       "SepalLengthCm    0\n",
       "SepalWidthCm     0\n",
       "PetalLengthCm    0\n",
       "PetalWidthCm     0\n",
       "Species          0\n",
       "dtype: int64"
      ]
     },
     "execution_count": 15,
     "metadata": {},
     "output_type": "execute_result"
    }
   ],
   "source": [
    "df.isnull().sum()"
   ]
  },
  {
   "cell_type": "code",
   "execution_count": 17,
   "id": "4ff92179-1b53-4356-a667-2b048d5444d9",
   "metadata": {},
   "outputs": [
    {
     "data": {
      "text/plain": [
       "Id                 int64\n",
       "SepalLengthCm    float64\n",
       "SepalWidthCm     float64\n",
       "PetalLengthCm    float64\n",
       "PetalWidthCm     float64\n",
       "Species           object\n",
       "dtype: object"
      ]
     },
     "execution_count": 17,
     "metadata": {},
     "output_type": "execute_result"
    }
   ],
   "source": [
    "df.dtypes"
   ]
  },
  {
   "cell_type": "code",
   "execution_count": 19,
   "id": "cb966480-5e34-4317-bd97-d9ae719e9842",
   "metadata": {},
   "outputs": [
    {
     "data": {
      "text/html": [
       "<div>\n",
       "<style scoped>\n",
       "    .dataframe tbody tr th:only-of-type {\n",
       "        vertical-align: middle;\n",
       "    }\n",
       "\n",
       "    .dataframe tbody tr th {\n",
       "        vertical-align: top;\n",
       "    }\n",
       "\n",
       "    .dataframe thead th {\n",
       "        text-align: right;\n",
       "    }\n",
       "</style>\n",
       "<table border=\"1\" class=\"dataframe\">\n",
       "  <thead>\n",
       "    <tr style=\"text-align: right;\">\n",
       "      <th></th>\n",
       "      <th>Id</th>\n",
       "      <th>SepalLengthCm</th>\n",
       "      <th>SepalWidthCm</th>\n",
       "      <th>PetalLengthCm</th>\n",
       "      <th>PetalWidthCm</th>\n",
       "      <th>Species</th>\n",
       "    </tr>\n",
       "  </thead>\n",
       "  <tbody>\n",
       "    <tr>\n",
       "      <th>0</th>\n",
       "      <td>False</td>\n",
       "      <td>False</td>\n",
       "      <td>False</td>\n",
       "      <td>False</td>\n",
       "      <td>False</td>\n",
       "      <td>False</td>\n",
       "    </tr>\n",
       "    <tr>\n",
       "      <th>1</th>\n",
       "      <td>False</td>\n",
       "      <td>False</td>\n",
       "      <td>False</td>\n",
       "      <td>False</td>\n",
       "      <td>False</td>\n",
       "      <td>False</td>\n",
       "    </tr>\n",
       "    <tr>\n",
       "      <th>2</th>\n",
       "      <td>False</td>\n",
       "      <td>False</td>\n",
       "      <td>False</td>\n",
       "      <td>False</td>\n",
       "      <td>False</td>\n",
       "      <td>False</td>\n",
       "    </tr>\n",
       "    <tr>\n",
       "      <th>3</th>\n",
       "      <td>False</td>\n",
       "      <td>False</td>\n",
       "      <td>False</td>\n",
       "      <td>False</td>\n",
       "      <td>False</td>\n",
       "      <td>False</td>\n",
       "    </tr>\n",
       "    <tr>\n",
       "      <th>4</th>\n",
       "      <td>False</td>\n",
       "      <td>False</td>\n",
       "      <td>False</td>\n",
       "      <td>False</td>\n",
       "      <td>False</td>\n",
       "      <td>False</td>\n",
       "    </tr>\n",
       "    <tr>\n",
       "      <th>...</th>\n",
       "      <td>...</td>\n",
       "      <td>...</td>\n",
       "      <td>...</td>\n",
       "      <td>...</td>\n",
       "      <td>...</td>\n",
       "      <td>...</td>\n",
       "    </tr>\n",
       "    <tr>\n",
       "      <th>145</th>\n",
       "      <td>False</td>\n",
       "      <td>False</td>\n",
       "      <td>False</td>\n",
       "      <td>False</td>\n",
       "      <td>False</td>\n",
       "      <td>False</td>\n",
       "    </tr>\n",
       "    <tr>\n",
       "      <th>146</th>\n",
       "      <td>False</td>\n",
       "      <td>False</td>\n",
       "      <td>False</td>\n",
       "      <td>False</td>\n",
       "      <td>False</td>\n",
       "      <td>False</td>\n",
       "    </tr>\n",
       "    <tr>\n",
       "      <th>147</th>\n",
       "      <td>False</td>\n",
       "      <td>False</td>\n",
       "      <td>False</td>\n",
       "      <td>False</td>\n",
       "      <td>False</td>\n",
       "      <td>False</td>\n",
       "    </tr>\n",
       "    <tr>\n",
       "      <th>148</th>\n",
       "      <td>False</td>\n",
       "      <td>False</td>\n",
       "      <td>False</td>\n",
       "      <td>False</td>\n",
       "      <td>False</td>\n",
       "      <td>False</td>\n",
       "    </tr>\n",
       "    <tr>\n",
       "      <th>149</th>\n",
       "      <td>False</td>\n",
       "      <td>False</td>\n",
       "      <td>False</td>\n",
       "      <td>False</td>\n",
       "      <td>False</td>\n",
       "      <td>False</td>\n",
       "    </tr>\n",
       "  </tbody>\n",
       "</table>\n",
       "<p>150 rows × 6 columns</p>\n",
       "</div>"
      ],
      "text/plain": [
       "        Id  SepalLengthCm  SepalWidthCm  PetalLengthCm  PetalWidthCm  Species\n",
       "0    False          False         False          False         False    False\n",
       "1    False          False         False          False         False    False\n",
       "2    False          False         False          False         False    False\n",
       "3    False          False         False          False         False    False\n",
       "4    False          False         False          False         False    False\n",
       "..     ...            ...           ...            ...           ...      ...\n",
       "145  False          False         False          False         False    False\n",
       "146  False          False         False          False         False    False\n",
       "147  False          False         False          False         False    False\n",
       "148  False          False         False          False         False    False\n",
       "149  False          False         False          False         False    False\n",
       "\n",
       "[150 rows x 6 columns]"
      ]
     },
     "execution_count": 19,
     "metadata": {},
     "output_type": "execute_result"
    }
   ],
   "source": [
    "df.isnull()"
   ]
  },
  {
   "cell_type": "code",
   "execution_count": 21,
   "id": "f3720060-dba7-4f6b-ba38-e8aa590404e0",
   "metadata": {},
   "outputs": [],
   "source": [
    "import seaborn as sns"
   ]
  },
  {
   "cell_type": "code",
   "execution_count": 25,
   "id": "d7fe4e94-9e96-4b55-89ff-54fc182e85bc",
   "metadata": {},
   "outputs": [
    {
     "data": {
      "text/plain": [
       "Index(['Id', 'SepalLengthCm', 'SepalWidthCm', 'PetalLengthCm', 'PetalWidthCm',\n",
       "       'Species'],\n",
       "      dtype='object')"
      ]
     },
     "execution_count": 25,
     "metadata": {},
     "output_type": "execute_result"
    }
   ],
   "source": [
    "df.columns"
   ]
  },
  {
   "cell_type": "code",
   "execution_count": 33,
   "id": "4940b4ea-7711-4fc5-a761-b662112424b1",
   "metadata": {},
   "outputs": [
    {
     "data": {
      "text/plain": [
       "<Axes: xlabel='Species', ylabel='count'>"
      ]
     },
     "execution_count": 33,
     "metadata": {},
     "output_type": "execute_result"
    },
    {
     "data": {
      "image/png": "[encoded data removed]",
      "text/plain": [
       "<Figure size 640x480 with 1 Axes>"
      ]
     },
     "metadata": {},
     "output_type": "display_data"
    }
   ],
   "source": [
    "sns.countplot(x='Species',data=df)"
   ]
  },
  {
   "cell_type": "code",
   "execution_count": 37,
   "id": "6d67c722-6180-49d6-af0f-f35d41acccb0",
   "metadata": {},
   "outputs": [],
   "source": [
    "target= df['Species']\n",
    "df = df.drop('Species',axis=1)"
   ]
  },
  {
   "cell_type": "code",
   "execution_count": 39,
   "id": "3df6085f-a930-4fa9-9343-fd2175dc5c63",
   "metadata": {},
   "outputs": [
    {
     "data": {
      "text/html": [
       "<div>\n",
       "<style scoped>\n",
       "    .dataframe tbody tr th:only-of-type {\n",
       "        vertical-align: middle;\n",
       "    }\n",
       "\n",
       "    .dataframe tbody tr th {\n",
       "        vertical-align: top;\n",
       "    }\n",
       "\n",
       "    .dataframe thead th {\n",
       "        text-align: right;\n",
       "    }\n",
       "</style>\n",
       "<table border=\"1\" class=\"dataframe\">\n",
       "  <thead>\n",
       "    <tr style=\"text-align: right;\">\n",
       "      <th></th>\n",
       "      <th>Id</th>\n",
       "      <th>SepalLengthCm</th>\n",
       "      <th>SepalWidthCm</th>\n",
       "      <th>PetalLengthCm</th>\n",
       "      <th>PetalWidthCm</th>\n",
       "    </tr>\n",
       "  </thead>\n",
       "  <tbody>\n",
       "    <tr>\n",
       "      <th>17</th>\n",
       "      <td>18</td>\n",
       "      <td>5.1</td>\n",
       "      <td>3.5</td>\n",
       "      <td>1.4</td>\n",
       "      <td>0.3</td>\n",
       "    </tr>\n",
       "    <tr>\n",
       "      <th>81</th>\n",
       "      <td>82</td>\n",
       "      <td>5.5</td>\n",
       "      <td>2.4</td>\n",
       "      <td>3.7</td>\n",
       "      <td>1.0</td>\n",
       "    </tr>\n",
       "    <tr>\n",
       "      <th>103</th>\n",
       "      <td>104</td>\n",
       "      <td>6.3</td>\n",
       "      <td>2.9</td>\n",
       "      <td>5.6</td>\n",
       "      <td>1.8</td>\n",
       "    </tr>\n",
       "    <tr>\n",
       "      <th>33</th>\n",
       "      <td>34</td>\n",
       "      <td>5.5</td>\n",
       "      <td>4.2</td>\n",
       "      <td>1.4</td>\n",
       "      <td>0.2</td>\n",
       "    </tr>\n",
       "    <tr>\n",
       "      <th>101</th>\n",
       "      <td>102</td>\n",
       "      <td>5.8</td>\n",
       "      <td>2.7</td>\n",
       "      <td>5.1</td>\n",
       "      <td>1.9</td>\n",
       "    </tr>\n",
       "  </tbody>\n",
       "</table>\n",
       "</div>"
      ],
      "text/plain": [
       "      Id  SepalLengthCm  SepalWidthCm  PetalLengthCm  PetalWidthCm\n",
       "17    18            5.1           3.5            1.4           0.3\n",
       "81    82            5.5           2.4            3.7           1.0\n",
       "103  104            6.3           2.9            5.6           1.8\n",
       "33    34            5.5           4.2            1.4           0.2\n",
       "101  102            5.8           2.7            5.1           1.9"
      ]
     },
     "execution_count": 39,
     "metadata": {},
     "output_type": "execute_result"
    }
   ],
   "source": [
    "from sklearn.model_selection import train_test_split\n",
    "X_train,X_test,y_train,y_test = train_test_split(df,target,test_size =0.20,random_state=12)\n",
    "\n",
    "X_train.head()"
   ]
  },
  {
   "cell_type": "code",
   "execution_count": 41,
   "id": "6f4e67bf-fa84-417c-bced-adc11e1842cd",
   "metadata": {},
   "outputs": [],
   "source": [
    "from sklearn.preprocessing import StandardScaler\n",
    "scaler = StandardScaler()\n",
    "X_train = scaler.fit_transform(X_train)\n",
    "X_test = scaler.transform(X_test)"
   ]
  },
  {
   "cell_type": "code",
   "execution_count": 43,
   "id": "b5581558-ca9f-4b12-b93e-5baddd08a18c",
   "metadata": {},
   "outputs": [
    {
     "data": {
      "text/plain": [
       "array([[-1.37529598e+00, -9.23010404e-01,  1.00833348e+00,\n",
       "        -1.37586035e+00, -1.19362941e+00],\n",
       "       [ 1.36191302e-01, -4.32373645e-01, -1.45648169e+00,\n",
       "        -5.77851797e-02, -2.73768213e-01],\n",
       "       [ 6.55765055e-01,  5.48899875e-01, -3.36111159e-01,\n",
       "         1.03105953e+00,  7.77501726e-01],\n",
       "       [-9.97424159e-01, -4.32373645e-01,  2.57685222e+00,\n",
       "        -1.37586035e+00, -1.32503815e+00],\n",
       "       [ 6.08531078e-01, -6.43960747e-02, -7.84259371e-01,\n",
       "         7.44521447e-01,  9.08910468e-01],\n",
       "       [-1.42252996e+00, -1.87055265e-01,  3.02500043e+00,\n",
       "        -1.31855274e+00, -1.06222067e+00],\n",
       "       [-2.65297507e-01, -3.09714455e-01, -3.36111159e-01,\n",
       "        -1.15092796e-01,  1.20458014e-01],\n",
       "       [ 1.12574313e-01, -4.32373645e-01, -1.45648169e+00,\n",
       "        -4.77563469e-04, -1.42359471e-01],\n",
       "       [-1.44614695e+00, -6.43960747e-02,  2.12870401e+00,\n",
       "        -1.49047559e+00, -1.32503815e+00],\n",
       "       [-3.12531485e-01,  1.80922305e-01, -1.90462990e+00,\n",
       "         1.14137669e-01, -2.73768213e-01],\n",
       "       [ 5.37680111e-01, -9.23010404e-01, -1.23240758e+00,\n",
       "        -4.58938493e-01, -1.42359471e-01],\n",
       "       [-1.16274308e+00, -1.04566959e+00,  7.84259371e-01,\n",
       "        -1.26124512e+00, -1.06222067e+00],\n",
       "       [-1.58784888e+00, -1.78162473e+00, -3.36111159e-01,\n",
       "        -1.37586035e+00, -1.32503815e+00],\n",
       "       [-1.32806200e+00, -9.23010404e-01,  1.68055580e+00,\n",
       "        -1.31855274e+00, -1.19362941e+00],\n",
       "       [-1.49338092e+00, -1.29098797e+00, -1.12037053e-01,\n",
       "        -1.37586035e+00, -1.45644690e+00],\n",
       "       [-1.54061490e+00, -5.55032835e-01,  1.45648169e+00,\n",
       "        -1.31855274e+00, -1.32503815e+00],\n",
       "       [-6.90403305e-01, -9.23010404e-01,  1.68055580e+00,\n",
       "        -1.26124512e+00, -1.32503815e+00],\n",
       "       [-9.26573193e-01, -4.32373645e-01,  1.00833348e+00,\n",
       "        -1.43316797e+00, -1.32503815e+00],\n",
       "       [ 1.15172182e+00,  1.03953663e+00,  5.60185265e-01,\n",
       "         1.08836714e+00,  1.17172795e+00],\n",
       "       [-1.61146587e+00, -1.04566959e+00,  7.84259371e-01,\n",
       "        -1.31855274e+00, -1.32503815e+00],\n",
       "       [ 1.34065773e+00,  6.71559065e-01, -5.60185265e-01,\n",
       "         1.03105953e+00,  1.30313670e+00],\n",
       "       [ 2.30659257e-01,  1.80922305e-01,  7.84259371e-01,\n",
       "         4.00675750e-01,  5.14684241e-01],\n",
       "       [-5.48701373e-01,  1.28485501e+00,  1.12037053e-01,\n",
       "         6.29906215e-01,  3.83275499e-01],\n",
       "       [-2.88914496e-01,  3.03581495e-01, -3.36111159e-01,\n",
       "         5.15290983e-01,  2.51866756e-01],\n",
       "       [-6.43169328e-01, -6.77692024e-01,  1.45648169e+00,\n",
       "        -1.31855274e+00, -1.32503815e+00],\n",
       "       [ 8.44700965e-01,  6.71559065e-01, -7.84259371e-01,\n",
       "         8.59136680e-01,  9.08910468e-01],\n",
       "       [ 3.95978179e-01, -6.43960747e-02, -1.00833348e+00,\n",
       "         1.14137669e-01, -1.09507285e-02],\n",
       "       [ 3.72361190e-01,  3.03581495e-01, -1.12037053e-01,\n",
       "         4.57983366e-01,  2.51866756e-01],\n",
       "       [ 1.05725386e+00,  1.28485501e+00,  3.36111159e-01,\n",
       "         1.08836714e+00,  1.43454544e+00],\n",
       "       [-1.56423189e+00, -1.16832878e+00,  1.12037053e-01,\n",
       "        -1.31855274e+00, -1.45644690e+00],\n",
       "       [ 8.91934943e-01, -1.87055265e-01, -1.23240758e+00,\n",
       "         6.87213831e-01,  1.04031921e+00],\n",
       "       [-1.65869985e+00, -5.55032835e-01,  1.90462990e+00,\n",
       "        -1.20393750e+00, -1.06222067e+00],\n",
       "       [ 1.62406160e+00,  1.03953663e+00,  5.60185265e-01,\n",
       "         1.08836714e+00,  1.69736292e+00],\n",
       "       [ 7.26616021e-01, -1.16832878e+00, -1.23240758e+00,\n",
       "         4.00675750e-01,  6.46092984e-01],\n",
       "       [ 9.15551932e-01, -6.43960747e-02, -5.60185265e-01,\n",
       "         7.44521447e-01,  1.56595418e+00],\n",
       "       [ 1.48235966e+00,  1.80922305e-01, -1.12037053e-01,\n",
       "         5.72598599e-01,  7.77501726e-01],\n",
       "       [ 2.54276246e-01,  1.03953663e+00,  1.12037053e-01,\n",
       "         5.15290983e-01,  3.83275499e-01],\n",
       "       [-4.30616429e-01, -1.16832878e+00, -1.45648169e+00,\n",
       "        -2.87015645e-01, -2.73768213e-01],\n",
       "       [ 4.19595167e-01, -1.04566959e+00, -1.68055580e+00,\n",
       "        -2.87015645e-01, -2.73768213e-01],\n",
       "       [ 1.83425280e-01,  1.80922305e-01, -7.84259371e-01,\n",
       "         7.44521447e-01,  5.14684241e-01],\n",
       "       [ 7.02999033e-01,  2.14346934e+00, -1.12037053e-01,\n",
       "         1.60413569e+00,  1.17172795e+00],\n",
       "       [-1.77678479e+00, -9.23010404e-01,  1.00833348e+00,\n",
       "        -1.37586035e+00, -1.32503815e+00],\n",
       "       [ 1.52959364e+00,  1.03953663e+00,  1.12037053e-01,\n",
       "         1.03105953e+00,  1.56595418e+00],\n",
       "       [ 1.31704074e+00,  2.51144691e+00,  1.68055580e+00,\n",
       "         1.48952046e+00,  1.04031921e+00],\n",
       "       [-9.73807171e-01, -1.16832878e+00,  1.12037053e-01,\n",
       "        -1.31855274e+00, -1.45644690e+00],\n",
       "       [ 4.43212156e-01, -3.09714455e-01, -7.84259371e-01,\n",
       "         2.28752901e-01,  1.20458014e-01],\n",
       "       [-1.35167899e+00, -1.87055265e-01,  1.68055580e+00,\n",
       "        -1.20393750e+00, -1.19362941e+00],\n",
       "       [ 9.39168921e-01,  6.71559065e-01,  3.36111159e-01,\n",
       "         8.59136680e-01,  1.43454544e+00],\n",
       "       [ 1.10448784e+00,  2.26612853e+00, -5.60185265e-01,\n",
       "         1.66144331e+00,  1.04031921e+00],\n",
       "       [-7.61254272e-01, -1.04566959e+00,  1.00833348e+00,\n",
       "        -1.26124512e+00, -7.99403183e-01],\n",
       "       [-5.72318361e-01,  6.71559065e-01,  3.36111159e-01,\n",
       "         4.00675750e-01,  3.83275499e-01],\n",
       "       [-1.47212563e-01, -3.09714455e-01, -1.23240758e+00,\n",
       "         5.68300528e-02, -1.42359471e-01],\n",
       "       [-1.09189211e+00, -1.41364716e+00,  3.36111159e-01,\n",
       "        -1.26124512e+00, -1.32503815e+00],\n",
       "       [-1.30444501e+00, -5.55032835e-01,  7.84259371e-01,\n",
       "        -1.20393750e+00, -1.32503815e+00],\n",
       "       [ 2.77893235e-01,  5.48899875e-01, -1.68055580e+00,\n",
       "         3.43368134e-01,  1.20458014e-01],\n",
       "       [-4.77850406e-01, -1.87055265e-01, -5.60185265e-01,\n",
       "         4.00675750e-01,  1.20458014e-01],\n",
       "       [-5.01467395e-01,  7.94218255e-01, -5.60185265e-01,\n",
       "         4.57983366e-01,  3.83275499e-01],\n",
       "       [ 2.07042268e-01, -5.55032835e-01, -1.12037053e-01,\n",
       "         4.00675750e-01,  3.83275499e-01],\n",
       "       [ 1.45874267e+00,  6.71559065e-01,  1.12037053e-01,\n",
       "         9.73751912e-01,  7.77501726e-01],\n",
       "       [-4.06999440e-01,  9.16877445e-01, -3.36111159e-01,\n",
       "         4.57983366e-01,  1.20458014e-01],\n",
       "       [ 1.50597665e+00,  1.28485501e+00,  1.12037053e-01,\n",
       "         9.16444296e-01,  1.17172795e+00],\n",
       "       [-1.11550910e+00, -8.00351214e-01,  7.84259371e-01,\n",
       "        -1.37586035e+00, -1.32503815e+00],\n",
       "       [-1.72955081e+00, -1.41364716e+00,  3.36111159e-01,\n",
       "        -1.43316797e+00, -1.32503815e+00],\n",
       "       [-1.94446541e-01, -6.43960747e-02, -7.84259371e-01,\n",
       "         1.71445285e-01, -2.73768213e-01],\n",
       "       [ 4.66829145e-01, -1.87055265e-01, -1.12037053e-01,\n",
       "         2.28752901e-01, -1.09507285e-02],\n",
       "       [-1.23595575e-01,  5.82631152e-02,  3.36111159e-01,\n",
       "         5.72598599e-01,  7.77501726e-01],\n",
       "       [-7.84871260e-01, -1.78162473e+00,  3.36111159e-01,\n",
       "        -1.43316797e+00, -1.32503815e+00],\n",
       "       [ 1.08087085e+00, -3.09714455e-01, -5.60185265e-01,\n",
       "         6.29906215e-01,  1.04031921e+00],\n",
       "       [-3.59765462e-01, -1.04566959e+00, -2.35277811e+00,\n",
       "        -1.72400412e-01, -2.73768213e-01],\n",
       "       [-6.66786317e-01, -1.53630635e+00,  3.36111159e-01,\n",
       "        -1.37586035e+00, -1.32503815e+00],\n",
       "       [ 6.32148066e-01,  1.53017339e+00, -1.12037053e-01,\n",
       "         1.20298238e+00,  1.17172795e+00],\n",
       "       [ 1.43512568e+00,  5.48899875e-01,  7.84259371e-01,\n",
       "         1.03105953e+00,  1.56595418e+00],\n",
       "       [-5.25084384e-01, -4.32373645e-01, -1.68055580e+00,\n",
       "         1.14137669e-01,  1.20458014e-01],\n",
       "       [ 1.22257279e+00,  3.03581495e-01, -1.12037053e-01,\n",
       "         6.29906215e-01,  7.77501726e-01],\n",
       "       [ 1.74214654e+00,  5.82631152e-02, -1.12037053e-01,\n",
       "         7.44521447e-01,  7.77501726e-01],\n",
       "       [-9.02956204e-01, -1.16832878e+00,  1.12037053e-01,\n",
       "        -1.31855274e+00, -1.45644690e+00],\n",
       "       [-7.37637283e-01, -9.23010404e-01,  1.68055580e+00,\n",
       "        -1.08932227e+00, -1.06222067e+00],\n",
       "       [ 7.50233010e-01,  1.77549177e+00, -3.36111159e-01,\n",
       "         1.43221284e+00,  7.77501726e-01],\n",
       "       [-2.41680519e-01,  1.03953663e+00,  1.12037053e-01,\n",
       "         3.43368134e-01,  2.51866756e-01],\n",
       "       [-1.70829552e-01,  4.26240685e-01, -1.90462990e+00,\n",
       "         4.00675750e-01,  3.83275499e-01],\n",
       "       [ 1.26980676e+00,  1.65283258e+00, -1.12037053e-01,\n",
       "         1.14567476e+00,  5.14684241e-01],\n",
       "       [-1.68231683e+00, -1.04566959e+00,  1.23240758e+00,\n",
       "        -1.37586035e+00, -1.32503815e+00],\n",
       "       [-4.54233418e-01,  5.48899875e-01,  5.60185265e-01,\n",
       "         5.15290983e-01,  5.14684241e-01],\n",
       "       [ 5.14063122e-01,  4.26240685e-01, -3.36111159e-01,\n",
       "         2.86060518e-01,  1.20458014e-01],\n",
       "       [-1.18636007e+00, -1.04566959e+00, -1.12037053e-01,\n",
       "        -1.26124512e+00, -1.32503815e+00],\n",
       "       [ 8.89573244e-02, -1.87055265e-01, -1.00833348e+00,\n",
       "        -1.72400412e-01, -2.73768213e-01],\n",
       "       [ 3.01510223e-01, -3.09714455e-01, -1.12037053e-01,\n",
       "         1.71445285e-01,  1.20458014e-01],\n",
       "       [ 1.69491256e+00,  7.94218255e-01, -1.12037053e-01,\n",
       "         8.01829064e-01,  1.04031921e+00],\n",
       "       [ 1.57682762e+00, -6.43960747e-02, -7.84259371e-01,\n",
       "         7.44521447e-01,  9.08910468e-01],\n",
       "       [-3.83382451e-01, -8.00351214e-01, -7.84259371e-01,\n",
       "         5.68300528e-02,  2.51866756e-01],\n",
       "       [-1.13912609e+00, -8.00351214e-01,  1.00833348e+00,\n",
       "        -1.31855274e+00, -1.32503815e+00],\n",
       "       [ 8.21083977e-01,  7.94218255e-01,  3.36111159e-01,\n",
       "         7.44521447e-01,  1.04031921e+00],\n",
       "       [-1.02104115e+00, -8.00351214e-01,  2.35277811e+00,\n",
       "        -1.31855274e+00, -1.45644690e+00],\n",
       "       [ 8.68317954e-01,  1.16219582e+00, -1.12037053e-01,\n",
       "         9.73751912e-01,  1.17172795e+00],\n",
       "       [-1.06827513e+00, -1.29098797e+00,  1.12037053e-01,\n",
       "        -1.26124512e+00, -1.32503815e+00],\n",
       "       [-7.14020294e-01, -1.29098797e+00, -1.12037053e-01,\n",
       "        -1.37586035e+00, -1.19362941e+00],\n",
       "       [-5.27446083e-02,  3.03581495e-01, -5.60185265e-01,\n",
       "         5.15290983e-01, -1.09507285e-02],\n",
       "       [ 7.97466988e-01,  1.65283258e+00,  1.23240758e+00,\n",
       "         1.31759761e+00,  1.69736292e+00],\n",
       "       [ 1.12810483e+00,  5.48899875e-01, -7.84259371e-01,\n",
       "         6.29906215e-01,  7.77501726e-01],\n",
       "       [ 4.90446134e-01, -1.87055265e-01, -3.36111159e-01,\n",
       "         2.28752901e-01,  1.20458014e-01],\n",
       "       [ 1.03363688e+00,  1.80922305e-01, -1.90462990e+00,\n",
       "         6.87213831e-01,  3.83275499e-01],\n",
       "       [ 5.84914089e-01,  5.48899875e-01,  5.60185265e-01,\n",
       "         1.26028999e+00,  1.69736292e+00],\n",
       "       [-9.50190182e-01, -1.04566959e+00,  3.36111159e-01,\n",
       "        -1.49047559e+00, -1.32503815e+00],\n",
       "       [ 3.25127212e-01, -4.32373645e-01, -1.23240758e+00,\n",
       "         1.14137669e-01,  1.20458014e-01],\n",
       "       [ 1.59808291e-01, -6.43960747e-02, -7.84259371e-01,\n",
       "         5.68300528e-02, -1.09507285e-02],\n",
       "       [-1.46976394e+00, -1.90428392e+00, -1.12037053e-01,\n",
       "        -1.54778320e+00, -1.45644690e+00],\n",
       "       [ 6.79382044e-01,  7.94218255e-01, -1.12037053e-01,\n",
       "         1.14567476e+00,  1.30313670e+00],\n",
       "       [ 9.86402898e-01,  2.26612853e+00,  1.68055580e+00,\n",
       "         1.66144331e+00,  1.30313670e+00],\n",
       "       [ 1.24618977e+00,  6.71559065e-01, -5.60185265e-01,\n",
       "         1.03105953e+00,  1.17172795e+00],\n",
       "       [-2.91276195e-02,  6.71559065e-01, -3.36111159e-01,\n",
       "         2.86060518e-01,  1.20458014e-01],\n",
       "       [ 1.01001989e+00,  2.26612853e+00, -1.00833348e+00,\n",
       "         1.77605854e+00,  1.43454544e+00],\n",
       "       [ 1.55321063e+00,  1.28485501e+00,  1.12037053e-01,\n",
       "         7.44521447e-01,  1.43454544e+00],\n",
       "       [ 1.36427472e+00,  5.48899875e-01, -5.60185265e-01,\n",
       "         7.44521447e-01,  3.83275499e-01],\n",
       "       [-6.19552339e-01, -1.04566959e+00,  5.60185265e-01,\n",
       "        -1.37586035e+00, -1.32503815e+00],\n",
       "       [-1.25721104e+00, -1.53630635e+00,  1.23240758e+00,\n",
       "        -1.60509082e+00, -1.32503815e+00],\n",
       "       [ 1.81063581e-02,  1.16219582e+00, -5.60185265e-01,\n",
       "         5.72598599e-01,  2.51866756e-01],\n",
       "       [-1.70593382e+00, -1.53630635e+00,  1.12037053e-01,\n",
       "        -1.31855274e+00, -1.32503815e+00],\n",
       "       [ 1.29342375e+00,  1.89815096e+00, -5.60185265e-01,\n",
       "         1.31759761e+00,  9.08910468e-01],\n",
       "       [ 1.38789171e+00,  3.03581495e-01, -1.00833348e+00,\n",
       "         1.03105953e+00,  2.51866756e-01],\n",
       "       [-5.51063072e-03,  9.16877445e-01, -1.12037053e-01,\n",
       "         3.43368134e-01,  2.51866756e-01]])"
      ]
     },
     "execution_count": 43,
     "metadata": {},
     "output_type": "execute_result"
    }
   ],
   "source": [
    "X_train"
   ]
  },
  {
   "cell_type": "code",
   "execution_count": 69,
   "id": "a22ba1b7-fbfd-4434-b62f-baa32f4e9503",
   "metadata": {},
   "outputs": [],
   "source": [
    "X_train = pd.DataFrame(X_train)\n",
    "X_test = pd.DataFrame(X_test)"
   ]
  },
  {
   "cell_type": "code",
   "execution_count": 71,
   "id": "82e518a4-6150-48c1-a5e4-7604173e1a49",
   "metadata": {},
   "outputs": [
    {
     "data": {
      "text/html": [
       "<style>#sk-container-id-2 {color: black;}#sk-container-id-2 pre{padding: 0;}#sk-container-id-2 div.sk-toggleable {background-color: white;}#sk-container-id-2 label.sk-toggleable__label {cursor: pointer;display: block;width: 100%;margin-bottom: 0;padding: 0.3em;box-sizing: border-box;text-align: center;}#sk-container-id-2 label.sk-toggleable__label-arrow:before {content: \"▸\";float: left;margin-right: 0.25em;color: #696969;}#sk-container-id-2 label.sk-toggleable__label-arrow:hover:before {color: black;}#sk-container-id-2 div.sk-estimator:hover label.sk-toggleable__label-arrow:before {color: black;}#sk-container-id-2 div.sk-toggleable__content {max-height: 0;max-width: 0;overflow: hidden;text-align: left;background-color: #f0f8ff;}#sk-container-id-2 div.sk-toggleable__content pre {margin: 0.2em;color: black;border-radius: 0.25em;background-color: #f0f8ff;}#sk-container-id-2 input.sk-toggleable__control:checked~div.sk-toggleable__content {max-height: 200px;max-width: 100%;overflow: auto;}#sk-container-id-2 input.sk-toggleable__control:checked~label.sk-toggleable__label-arrow:before {content: \"▾\";}#sk-container-id-2 div.sk-estimator input.sk-toggleable__control:checked~label.sk-toggleable__label {background-color: #d4ebff;}#sk-container-id-2 div.sk-label input.sk-toggleable__control:checked~label.sk-toggleable__label {background-color: #d4ebff;}#sk-container-id-2 input.sk-hidden--visually {border: 0;clip: rect(1px 1px 1px 1px);clip: rect(1px, 1px, 1px, 1px);height: 1px;margin: -1px;overflow: hidden;padding: 0;position: absolute;width: 1px;}#sk-container-id-2 div.sk-estimator {font-family: monospace;background-color: #f0f8ff;border: 1px dotted black;border-radius: 0.25em;box-sizing: border-box;margin-bottom: 0.5em;}#sk-container-id-2 div.sk-estimator:hover {background-color: #d4ebff;}#sk-container-id-2 div.sk-parallel-item::after {content: \"\";width: 100%;border-bottom: 1px solid gray;flex-grow: 1;}#sk-container-id-2 div.sk-label:hover label.sk-toggleable__label {background-color: #d4ebff;}#sk-container-id-2 div.sk-serial::before {content: \"\";position: absolute;border-left: 1px solid gray;box-sizing: border-box;top: 0;bottom: 0;left: 50%;z-index: 0;}#sk-container-id-2 div.sk-serial {display: flex;flex-direction: column;align-items: center;background-color: white;padding-right: 0.2em;padding-left: 0.2em;position: relative;}#sk-container-id-2 div.sk-item {position: relative;z-index: 1;}#sk-container-id-2 div.sk-parallel {display: flex;align-items: stretch;justify-content: center;background-color: white;position: relative;}#sk-container-id-2 div.sk-item::before, #sk-container-id-2 div.sk-parallel-item::before {content: \"\";position: absolute;border-left: 1px solid gray;box-sizing: border-box;top: 0;bottom: 0;left: 50%;z-index: -1;}#sk-container-id-2 div.sk-parallel-item {display: flex;flex-direction: column;z-index: 1;position: relative;background-color: white;}#sk-container-id-2 div.sk-parallel-item:first-child::after {align-self: flex-end;width: 50%;}#sk-container-id-2 div.sk-parallel-item:last-child::after {align-self: flex-start;width: 50%;}#sk-container-id-2 div.sk-parallel-item:only-child::after {width: 0;}#sk-container-id-2 div.sk-dashed-wrapped {border: 1px dashed gray;margin: 0 0.4em 0.5em 0.4em;box-sizing: border-box;padding-bottom: 0.4em;background-color: white;}#sk-container-id-2 div.sk-label label {font-family: monospace;font-weight: bold;display: inline-block;line-height: 1.2em;}#sk-container-id-2 div.sk-label-container {text-align: center;}#sk-container-id-2 div.sk-container {/* jupyter's `normalize.less` sets `[hidden] { display: none; }` but bootstrap.min.css set `[hidden] { display: none !important; }` so we also need the `!important` here to be able to override the default hidden behavior on the sphinx rendered scikit-learn.org. See: https://github.com/scikit-learn/scikit-learn/issues/21755 */display: inline-block !important;position: relative;}#sk-container-id-2 div.sk-text-repr-fallback {display: none;}</style><div id=\"sk-container-id-2\" class=\"sk-top-container\"><div class=\"sk-text-repr-fallback\"><pre>LogisticRegression()</pre><b>In a Jupyter environment, please rerun this cell to show the HTML representation or trust the notebook. <br />On GitHub, the HTML representation is unable to render, please try loading this page with nbviewer.org.</b></div><div class=\"sk-container\" hidden><div class=\"sk-item\"><div class=\"sk-estimator sk-toggleable\"><input class=\"sk-toggleable__control sk-hidden--visually\" id=\"sk-estimator-id-2\" type=\"checkbox\" checked><label for=\"sk-estimator-id-2\" class=\"sk-toggleable__label sk-toggleable__label-arrow\">LogisticRegression</label><div class=\"sk-toggleable__content\"><pre>LogisticRegression()</pre></div></div></div></div></div>"
      ],
      "text/plain": [
       "LogisticRegression()"
      ]
     },
     "execution_count": 71,
     "metadata": {},
     "output_type": "execute_result"
    }
   ],
   "source": [
    "from sklearn.linear_model import LogisticRegression\n",
    "model = LogisticRegression()\n",
    "model.fit(X_train,y_train)\n",
    "\n"
   ]
  },
  {
   "cell_type": "code",
   "execution_count": 73,
   "id": "ebce1391-0c12-4b44-989e-e4b2a5736b47",
   "metadata": {},
   "outputs": [],
   "source": [
    "from sklearn.metrics import classification_report\n",
    "\n"
   ]
  },
  {
   "cell_type": "code",
   "execution_count": 75,
   "id": "5aa3fd3f-644c-4d6a-a10e-650fd1a1657c",
   "metadata": {},
   "outputs": [],
   "source": [
    "y_predict= model.predict(X_test)\n"
   ]
  },
  {
   "cell_type": "code",
   "execution_count": 77,
   "id": "1a05a238-eb0f-4afe-a20c-e52df03d3ab5",
   "metadata": {},
   "outputs": [
    {
     "data": {
      "text/plain": [
       "array(['Iris-setosa', 'Iris-virginica', 'Iris-setosa', 'Iris-versicolor',\n",
       "       'Iris-virginica', 'Iris-virginica', 'Iris-virginica',\n",
       "       'Iris-setosa', 'Iris-virginica', 'Iris-setosa', 'Iris-versicolor',\n",
       "       'Iris-setosa', 'Iris-setosa', 'Iris-setosa', 'Iris-versicolor',\n",
       "       'Iris-virginica', 'Iris-virginica', 'Iris-versicolor',\n",
       "       'Iris-setosa', 'Iris-versicolor', 'Iris-setosa', 'Iris-versicolor',\n",
       "       'Iris-virginica', 'Iris-versicolor', 'Iris-setosa',\n",
       "       'Iris-virginica', 'Iris-versicolor', 'Iris-versicolor',\n",
       "       'Iris-setosa', 'Iris-setosa'], dtype=object)"
      ]
     },
     "execution_count": 77,
     "metadata": {},
     "output_type": "execute_result"
    }
   ],
   "source": [
    "y_actual=y_test\n",
    "y_predict"
   ]
  },
  {
   "cell_type": "code",
   "execution_count": 79,
   "id": "eff0917b-f69b-4e1a-a5c0-d6fac6a3fc66",
   "metadata": {},
   "outputs": [
    {
     "data": {
      "text/plain": [
       "40         Iris-setosa\n",
       "146     Iris-virginica\n",
       "38         Iris-setosa\n",
       "99     Iris-versicolor\n",
       "143     Iris-virginica\n",
       "116     Iris-virginica\n",
       "148     Iris-virginica\n",
       "39         Iris-setosa\n",
       "135     Iris-virginica\n",
       "23         Iris-setosa\n",
       "66     Iris-versicolor\n",
       "16         Iris-setosa\n",
       "31         Iris-setosa\n",
       "21         Iris-setosa\n",
       "50     Iris-versicolor\n",
       "125     Iris-virginica\n",
       "108     Iris-virginica\n",
       "61     Iris-versicolor\n",
       "6          Iris-setosa\n",
       "72     Iris-versicolor\n",
       "1          Iris-setosa\n",
       "71     Iris-versicolor\n",
       "126     Iris-virginica\n",
       "78     Iris-versicolor\n",
       "24         Iris-setosa\n",
       "145     Iris-virginica\n",
       "77     Iris-versicolor\n",
       "90     Iris-versicolor\n",
       "11         Iris-setosa\n",
       "41         Iris-setosa\n",
       "Name: Species, dtype: object"
      ]
     },
     "execution_count": 79,
     "metadata": {},
     "output_type": "execute_result"
    }
   ],
   "source": [
    "y_actual"
   ]
  },
  {
   "cell_type": "code",
   "execution_count": 81,
   "id": "3b4d92d9-8982-4708-b636-61926c364b12",
   "metadata": {},
   "outputs": [
    {
     "name": "stdout",
     "output_type": "stream",
     "text": [
      "                 precision    recall  f1-score   support\n",
      "\n",
      "    Iris-setosa       1.00      1.00      1.00        12\n",
      "Iris-versicolor       1.00      1.00      1.00         9\n",
      " Iris-virginica       1.00      1.00      1.00         9\n",
      "\n",
      "       accuracy                           1.00        30\n",
      "      macro avg       1.00      1.00      1.00        30\n",
      "   weighted avg       1.00      1.00      1.00        30\n",
      "\n"
     ]
    }
   ],
   "source": [
    "print(classification_report(y_actual,y_predict))\n"
   ]
  },
  {
   "cell_type": "code",
   "execution_count": 83,
   "id": "cc44c294-ae33-4a2f-a9d3-906ac4a8a690",
   "metadata": {},
   "outputs": [
    {
     "data": {
      "text/plain": [
       "<Axes: >"
      ]
     },
     "execution_count": 83,
     "metadata": {},
     "output_type": "execute_result"
    },
    {
     "data": {
      "image/png": "[encoded data removed]",
      "text/plain": [
       "<Figure size 640x480 with 2 Axes>"
      ]
     },
     "metadata": {},
     "output_type": "display_data"
    }
   ],
   "source": [
    "sns.heatmap(X_train.corr(),annot=True)"
   ]
  },
  {
   "cell_type": "code",
   "execution_count": 89,
   "id": "dac63231-a4d1-4423-80dd-fbf949089c09",
   "metadata": {},
   "outputs": [
    {
     "data": {
      "text/plain": [
       "array([[-2.61182302,  0.48323926],\n",
       "       [ 0.0379203 , -1.52620397],\n",
       "       [ 1.55842259, -0.03129918],\n",
       "       [-2.63515116,  2.08980268],\n",
       "       [ 1.28426155, -0.68478173],\n",
       "       [-2.67157515,  2.63045775],\n",
       "       [-0.18747072, -0.41744878],\n",
       "       [ 0.12217698, -1.5154924 ],\n",
       "       [-2.64500949,  1.84191714],\n",
       "       [ 0.28429184, -1.66754578],\n",
       "       [-0.17730537, -1.53602692],\n",
       "       [-2.38757931,  0.23345266],\n",
       "       [-2.85563885, -1.08963074],\n",
       "       [-2.71275421,  1.09622223],\n",
       "       [-2.7093711 , -0.699311  ],\n",
       "       [-2.6670063 ,  1.03918016],\n",
       "       [-2.4418051 ,  1.06707443],\n",
       "       [-2.27300488,  0.65522411],\n",
       "       [ 2.03950758,  0.99292071],\n",
       "       [-2.76596206,  0.2309699 ],\n",
       "       [ 2.25926252, -0.17693937],\n",
       "       [ 0.47816963,  0.82352167],\n",
       "       [ 0.79724519,  0.68022807],\n",
       "       [ 0.46373129, -0.14424878],\n",
       "       [-2.28843465,  0.95830795],\n",
       "       [ 1.7840411 , -0.39356115],\n",
       "       [ 0.44537644, -0.95706875],\n",
       "       [ 0.70231591,  0.03537718],\n",
       "       [ 2.28635468,  0.90734175],\n",
       "       [-2.71068097, -0.44151345],\n",
       "       [ 1.50539727, -1.14606166],\n",
       "       [-2.63479861,  1.47181519],\n",
       "       [ 2.53223724,  1.00969694],\n",
       "       [ 0.64387647, -1.56821886],\n",
       "       [ 1.71236023, -0.44950949],\n",
       "       [ 1.507162  , -0.01651198],\n",
       "       [ 1.0168428 ,  0.55017094],\n",
       "       [-0.68031011, -1.80892661],\n",
       "       [-0.16450126, -1.99370418],\n",
       "       [ 0.9894968 , -0.59607741],\n",
       "       [ 2.73159039,  0.85410926],\n",
       "       [-2.87176035,  0.48898349],\n",
       "       [ 2.49311627,  0.594399  ],\n",
       "       [ 2.65777715,  2.60425675],\n",
       "       [-2.42577488, -0.46221821],\n",
       "       [ 0.4332439 , -0.84173165],\n",
       "       [-2.33833334,  1.39655292],\n",
       "       [ 1.83913851,  0.65828445],\n",
       "       [ 3.04517961,  0.473917  ],\n",
       "       [-2.11249925,  0.4404071 ],\n",
       "       [ 0.34455552,  0.63222166],\n",
       "       [ 0.02969717, -1.25106932],\n",
       "       [-2.54713286, -0.34263215],\n",
       "       [-2.340965  ,  0.42090399],\n",
       "       [ 0.99800679, -1.30448551],\n",
       "       [ 0.08057272, -0.5510225 ],\n",
       "       [ 0.66691547, -0.13676824],\n",
       "       [ 0.27789242, -0.29784557],\n",
       "       [ 1.86881182,  0.39712226],\n",
       "       [ 0.58352519,  0.0970136 ],\n",
       "       [ 2.3331842 ,  0.66592736],\n",
       "       [-2.44712145,  0.31083145],\n",
       "       [-2.94318662, -0.32491608],\n",
       "       [ 0.00646122, -0.74712198],\n",
       "       [ 0.27974915, -0.1884029 ],\n",
       "       [ 0.57561488,  0.39913136],\n",
       "       [-2.6507937 , -0.5062466 ],\n",
       "       [ 1.35945448, -0.59054552],\n",
       "       [-0.32849844, -2.57636815],\n",
       "       [-2.45538954, -0.41003727],\n",
       "       [ 2.21881152,  0.59875049],\n",
       "       [ 2.07641346,  1.01319891],\n",
       "       [ 0.05684272, -1.67772817],\n",
       "       [ 1.46574065,  0.04354744],\n",
       "       [ 1.66639025, -0.07037795],\n",
       "       [-2.39158615, -0.46470279],\n",
       "       [-2.24384001,  1.09004593],\n",
       "       [ 2.35502575,  0.47023621],\n",
       "       [ 0.6229653 ,  0.55458284],\n",
       "       [ 0.93990514, -1.52429613],\n",
       "       [ 2.220538  ,  0.58256688],\n",
       "       [-2.93171946,  0.64063343],\n",
       "       [ 0.42109732,  0.79447515],\n",
       "       [ 0.72168107, -0.13753477],\n",
       "       [-2.32714407, -0.59984382],\n",
       "       [-0.03692137, -1.02011507],\n",
       "       [ 0.1822393 , -0.22521988],\n",
       "       [ 2.13236554,  0.24590259],\n",
       "       [ 1.75150754, -0.71873755],\n",
       "       [-0.20572105, -1.0066589 ],\n",
       "       [-2.48012444,  0.51757167],\n",
       "       [ 1.57913585,  0.68372461],\n",
       "       [-2.79569523,  1.73127768],\n",
       "       [ 2.05151022,  0.43607224],\n",
       "       [-2.43019253, -0.49842304],\n",
       "       [-2.20089267, -0.70997128],\n",
       "       [ 0.4963498 , -0.37356437],\n",
       "       [ 2.37042826,  1.90497286],\n",
       "       [ 1.6823023 , -0.46742886],\n",
       "       [ 0.40840506, -0.38525975],\n",
       "       [ 1.55940099, -1.65759396],\n",
       "       [ 1.90121527,  0.85317857],\n",
       "       [-2.43310548, -0.20559186],\n",
       "       [ 0.36499055, -1.29881571],\n",
       "       [ 0.25090381, -0.74597154],\n",
       "       [-3.05875809, -0.95178909],\n",
       "       [ 1.95143982,  0.30747499],\n",
       "       [ 2.6100161 ,  2.53836461],\n",
       "       [ 2.14747635, -0.18196162],\n",
       "       [ 0.56853868, -0.01968446],\n",
       "       [ 3.35921862,  0.0966042 ],\n",
       "       [ 2.40002389,  0.67629591],\n",
       "       [ 1.60550614, -0.29325541],\n",
       "       [-2.26571309, -0.00972614],\n",
       "       [-3.06233642,  0.4219287 ],\n",
       "       [ 1.07379191, -0.01202383],\n",
       "       [-2.87631406, -0.57641217],\n",
       "       [ 2.72998117,  0.30146341],\n",
       "       [ 1.69110555, -0.80220605],\n",
       "       [ 0.7335006 ,  0.29253631]])"
      ]
     },
     "execution_count": 89,
     "metadata": {},
     "output_type": "execute_result"
    }
   ],
   "source": [
    "from sklearn.decomposition import PCA\n",
    "pca = PCA(n_components=2)\n",
    "\n",
    "tr_comp = pca.fit_transform(X_train)\n",
    "ts_comp = pca.fit_transform(X_test)\n",
    "\n",
    "#tr_comp = pd.DataFrame(tr_comp)\n",
    "#ts_comp = pd.DataFrame(ts_comp)\n",
    "tr_comp"
   ]
  },
  {
   "cell_type": "code",
   "execution_count": 103,
   "id": "49d63a0c-e620-48a1-be2e-7eff41976578",
   "metadata": {},
   "outputs": [
    {
     "data": {
      "text/html": [
       "<style>#sk-container-id-3 {color: black;}#sk-container-id-3 pre{padding: 0;}#sk-container-id-3 div.sk-toggleable {background-color: white;}#sk-container-id-3 label.sk-toggleable__label {cursor: pointer;display: block;width: 100%;margin-bottom: 0;padding: 0.3em;box-sizing: border-box;text-align: center;}#sk-container-id-3 label.sk-toggleable__label-arrow:before {content: \"▸\";float: left;margin-right: 0.25em;color: #696969;}#sk-container-id-3 label.sk-toggleable__label-arrow:hover:before {color: black;}#sk-container-id-3 div.sk-estimator:hover label.sk-toggleable__label-arrow:before {color: black;}#sk-container-id-3 div.sk-toggleable__content {max-height: 0;max-width: 0;overflow: hidden;text-align: left;background-color: #f0f8ff;}#sk-container-id-3 div.sk-toggleable__content pre {margin: 0.2em;color: black;border-radius: 0.25em;background-color: #f0f8ff;}#sk-container-id-3 input.sk-toggleable__control:checked~div.sk-toggleable__content {max-height: 200px;max-width: 100%;overflow: auto;}#sk-container-id-3 input.sk-toggleable__control:checked~label.sk-toggleable__label-arrow:before {content: \"▾\";}#sk-container-id-3 div.sk-estimator input.sk-toggleable__control:checked~label.sk-toggleable__label {background-color: #d4ebff;}#sk-container-id-3 div.sk-label input.sk-toggleable__control:checked~label.sk-toggleable__label {background-color: #d4ebff;}#sk-container-id-3 input.sk-hidden--visually {border: 0;clip: rect(1px 1px 1px 1px);clip: rect(1px, 1px, 1px, 1px);height: 1px;margin: -1px;overflow: hidden;padding: 0;position: absolute;width: 1px;}#sk-container-id-3 div.sk-estimator {font-family: monospace;background-color: #f0f8ff;border: 1px dotted black;border-radius: 0.25em;box-sizing: border-box;margin-bottom: 0.5em;}#sk-container-id-3 div.sk-estimator:hover {background-color: #d4ebff;}#sk-container-id-3 div.sk-parallel-item::after {content: \"\";width: 100%;border-bottom: 1px solid gray;flex-grow: 1;}#sk-container-id-3 div.sk-label:hover label.sk-toggleable__label {background-color: #d4ebff;}#sk-container-id-3 div.sk-serial::before {content: \"\";position: absolute;border-left: 1px solid gray;box-sizing: border-box;top: 0;bottom: 0;left: 50%;z-index: 0;}#sk-container-id-3 div.sk-serial {display: flex;flex-direction: column;align-items: center;background-color: white;padding-right: 0.2em;padding-left: 0.2em;position: relative;}#sk-container-id-3 div.sk-item {position: relative;z-index: 1;}#sk-container-id-3 div.sk-parallel {display: flex;align-items: stretch;justify-content: center;background-color: white;position: relative;}#sk-container-id-3 div.sk-item::before, #sk-container-id-3 div.sk-parallel-item::before {content: \"\";position: absolute;border-left: 1px solid gray;box-sizing: border-box;top: 0;bottom: 0;left: 50%;z-index: -1;}#sk-container-id-3 div.sk-parallel-item {display: flex;flex-direction: column;z-index: 1;position: relative;background-color: white;}#sk-container-id-3 div.sk-parallel-item:first-child::after {align-self: flex-end;width: 50%;}#sk-container-id-3 div.sk-parallel-item:last-child::after {align-self: flex-start;width: 50%;}#sk-container-id-3 div.sk-parallel-item:only-child::after {width: 0;}#sk-container-id-3 div.sk-dashed-wrapped {border: 1px dashed gray;margin: 0 0.4em 0.5em 0.4em;box-sizing: border-box;padding-bottom: 0.4em;background-color: white;}#sk-container-id-3 div.sk-label label {font-family: monospace;font-weight: bold;display: inline-block;line-height: 1.2em;}#sk-container-id-3 div.sk-label-container {text-align: center;}#sk-container-id-3 div.sk-container {/* jupyter's `normalize.less` sets `[hidden] { display: none; }` but bootstrap.min.css set `[hidden] { display: none !important; }` so we also need the `!important` here to be able to override the default hidden behavior on the sphinx rendered scikit-learn.org. See: https://github.com/scikit-learn/scikit-learn/issues/21755 */display: inline-block !important;position: relative;}#sk-container-id-3 div.sk-text-repr-fallback {display: none;}</style><div id=\"sk-container-id-3\" class=\"sk-top-container\"><div class=\"sk-text-repr-fallback\"><pre>LogisticRegression()</pre><b>In a Jupyter environment, please rerun this cell to show the HTML representation or trust the notebook. <br />On GitHub, the HTML representation is unable to render, please try loading this page with nbviewer.org.</b></div><div class=\"sk-container\" hidden><div class=\"sk-item\"><div class=\"sk-estimator sk-toggleable\"><input class=\"sk-toggleable__control sk-hidden--visually\" id=\"sk-estimator-id-3\" type=\"checkbox\" checked><label for=\"sk-estimator-id-3\" class=\"sk-toggleable__label sk-toggleable__label-arrow\">LogisticRegression</label><div class=\"sk-toggleable__content\"><pre>LogisticRegression()</pre></div></div></div></div></div>"
      ],
      "text/plain": [
       "LogisticRegression()"
      ]
     },
     "execution_count": 103,
     "metadata": {},
     "output_type": "execute_result"
    }
   ],
   "source": [
    "from sklearn.linear_model import LogisticRegression\n",
    "pc_model = LogisticRegression()\n",
    "pc_model.fit(tr_comp,y_train)\n"
   ]
  },
  {
   "cell_type": "code",
   "execution_count": 105,
   "id": "0cc52c94-cbb1-4054-84df-4f483c4e92d5",
   "metadata": {},
   "outputs": [
    {
     "data": {
      "text/plain": [
       "array(['Iris-setosa', 'Iris-virginica', 'Iris-setosa', 'Iris-versicolor',\n",
       "       'Iris-virginica', 'Iris-virginica', 'Iris-virginica',\n",
       "       'Iris-setosa', 'Iris-virginica', 'Iris-setosa', 'Iris-versicolor',\n",
       "       'Iris-setosa', 'Iris-setosa', 'Iris-setosa', 'Iris-versicolor',\n",
       "       'Iris-virginica', 'Iris-virginica', 'Iris-versicolor',\n",
       "       'Iris-setosa', 'Iris-versicolor', 'Iris-setosa', 'Iris-versicolor',\n",
       "       'Iris-virginica', 'Iris-versicolor', 'Iris-setosa',\n",
       "       'Iris-virginica', 'Iris-virginica', 'Iris-versicolor',\n",
       "       'Iris-setosa', 'Iris-setosa'], dtype=object)"
      ]
     },
     "execution_count": 105,
     "metadata": {},
     "output_type": "execute_result"
    }
   ],
   "source": [
    "\n",
    "y_predict=pc_model.predict(ts_comp)\n",
    "y_predict"
   ]
  },
  {
   "cell_type": "code",
   "execution_count": 107,
   "id": "4712c528-c7dc-41e0-bc42-711a0d05807c",
   "metadata": {},
   "outputs": [
    {
     "name": "stdout",
     "output_type": "stream",
     "text": [
      "                 precision    recall  f1-score   support\n",
      "\n",
      "    Iris-setosa       1.00      1.00      1.00        12\n",
      "Iris-versicolor       1.00      0.89      0.94         9\n",
      " Iris-virginica       0.90      1.00      0.95         9\n",
      "\n",
      "       accuracy                           0.97        30\n",
      "      macro avg       0.97      0.96      0.96        30\n",
      "   weighted avg       0.97      0.97      0.97        30\n",
      "\n"
     ]
    }
   ],
   "source": [
    "y_actual=y_test\n",
    "print(classification_report(y_actual,y_predict))"
   ]
  },
  {
   "cell_type": "code",
   "execution_count": 109,
   "id": "b79c858f-3c5f-44a2-a032-866e132bf03e",
   "metadata": {},
   "outputs": [
    {
     "name": "stdout",
     "output_type": "stream",
     "text": [
      "Principal Components:\n",
      "[[ 0.51018097  0.47744283 -0.18651765  0.49680844  0.47974604]\n",
      " [ 0.06118265 -0.34465012 -0.93349248 -0.00719632 -0.07754336]]\n"
     ]
    }
   ],
   "source": [
    "# Get the principal components directly from pca.components_\n",
    "principal_components = pca.components_\n",
    "print(\"Principal Components:\")\n",
    "print(principal_components)"
   ]
  },
  {
   "cell_type": "code",
   "execution_count": 129,
   "id": "8b5f03ee-1b1e-4630-b260-0208d4e1df99",
   "metadata": {},
   "outputs": [
    {
     "ename": "NameError",
     "evalue": "name 'LabelEncoder' is not defined",
     "output_type": "error",
     "traceback": [
      "\u001b[0;31m---------------------------------------------------------------------------\u001b[0m",
      "\u001b[0;31mNameError\u001b[0m                                 Traceback (most recent call last)",
      "Cell \u001b[0;32mIn[129], line 2\u001b[0m\n\u001b[1;32m      1\u001b[0m \u001b[38;5;28;01mimport\u001b[39;00m \u001b[38;5;21;01mmatplotlib\u001b[39;00m\u001b[38;5;21;01m.\u001b[39;00m\u001b[38;5;21;01mpyplot\u001b[39;00m \u001b[38;5;28;01mas\u001b[39;00m \u001b[38;5;21;01mplt\u001b[39;00m\n\u001b[0;32m----> 2\u001b[0m le\u001b[38;5;241m=\u001b[39m\u001b[43mLabelEncoder\u001b[49m()\n\u001b[1;32m      3\u001b[0m y_encoded\u001b[38;5;241m=\u001b[39mle\u001b[38;5;241m.\u001b[39mfit_transform(y_train)\n",
      "\u001b[0;31mNameError\u001b[0m: name 'LabelEncoder' is not defined"
     ]
    }
   ],
   "source": [
    "import matplotlib.pyplot as plt\n",
    "le=LabelEncoder()\n",
    "y_encoded=le.fit_transform(y_train)"
   ]
  },
  {
   "cell_type": "code",
   "execution_count": 125,
   "id": "e55650e9-7dfa-4ae4-acb3-7be6941db47b",
   "metadata": {},
   "outputs": [
    {
     "ename": "NameError",
     "evalue": "name 'y_encoded' is not defined",
     "output_type": "error",
     "traceback": [
      "\u001b[0;31m---------------------------------------------------------------------------\u001b[0m",
      "\u001b[0;31mNameError\u001b[0m                                 Traceback (most recent call last)",
      "Cell \u001b[0;32mIn[125], line 2\u001b[0m\n\u001b[1;32m      1\u001b[0m plt\u001b[38;5;241m.\u001b[39mfigure(figsize\u001b[38;5;241m=\u001b[39m(\u001b[38;5;241m8\u001b[39m, \u001b[38;5;241m6\u001b[39m))\n\u001b[0;32m----> 2\u001b[0m plt\u001b[38;5;241m.\u001b[39mscatter(tr_comp[:, \u001b[38;5;241m0\u001b[39m], tr_comp[:, \u001b[38;5;241m1\u001b[39m], c\u001b[38;5;241m=\u001b[39m\u001b[43my_encoded\u001b[49m, cmap\u001b[38;5;241m=\u001b[39m\u001b[38;5;124m'\u001b[39m\u001b[38;5;124mviridis\u001b[39m\u001b[38;5;124m'\u001b[39m, edgecolor\u001b[38;5;241m=\u001b[39m\u001b[38;5;124m'\u001b[39m\u001b[38;5;124mk\u001b[39m\u001b[38;5;124m'\u001b[39m)\n\u001b[1;32m      3\u001b[0m plt\u001b[38;5;241m.\u001b[39mxlabel(\u001b[38;5;124m'\u001b[39m\u001b[38;5;124mPrincipal Component 1\u001b[39m\u001b[38;5;124m'\u001b[39m)\n\u001b[1;32m      4\u001b[0m plt\u001b[38;5;241m.\u001b[39mylabel(\u001b[38;5;124m'\u001b[39m\u001b[38;5;124mPrincipal Component 2\u001b[39m\u001b[38;5;124m'\u001b[39m)\n",
      "\u001b[0;31mNameError\u001b[0m: name 'y_encoded' is not defined"
     ]
    },
    {
     "data": {
      "text/plain": [
       "<Figure size 800x600 with 0 Axes>"
      ]
     },
     "metadata": {},
     "output_type": "display_data"
    }
   ],
   "source": [
    "plt.figure(figsize=(8, 6))\n",
    "plt.scatter(tr_comp[:, 0], tr_comp[:, 1], c=y_encoded, cmap='viridis', edgecolor='k')\n",
    "plt.xlabel('Principal Component 1')\n",
    "plt.ylabel('Principal Component 2')\n",
    "plt.title('PCA: Principal Components')\n",
    "plt.colorbar()\n",
    "plt.show()"
   ]
  },
  {
   "cell_type": "code",
   "execution_count": null,
   "id": "67866dcd-fd87-4419-a7e8-6e599c1b2a3a",
   "metadata": {},
   "outputs": [],
   "source": [
    "sns.pair"
   ]
  }
 ],
 "metadata": {
  "kernelspec": {
   "display_name": "Python 3 (ipykernel)",
   "language": "python",
   "name": "python3"
  },
  "language_info": {
   "codemirror_mode": {
    "name": "ipython",
    "version": 3
   },
   "file_extension": ".py",
   "mimetype": "text/x-python",
   "name": "python",
   "nbconvert_exporter": "python",
   "pygments_lexer": "ipython3",
   "version": "3.9.19"
  }
 },
 "nbformat": 4,
 "nbformat_minor": 5
}
